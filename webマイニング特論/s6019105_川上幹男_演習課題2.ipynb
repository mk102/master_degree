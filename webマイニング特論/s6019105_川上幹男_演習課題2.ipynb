{
 "cells": [
  {
   "cell_type": "code",
   "execution_count": 2,
   "metadata": {},
   "outputs": [
    {
     "name": "stdout",
     "output_type": "stream",
     "text": [
      "1996年：English60.0, Mathematics65.73333333333333, Science66.13333333333334, Geography and History62.06666666666667\n"
     ]
    }
   ],
   "source": [
    "import urllib.request\n",
    "import re\n",
    "\n",
    "cgi = 'https://ta-umedu.biwako.shiga-u.ac.jp/2019_web1/data2.cgi'\n",
    "id = 'your_number'\n",
    "year = 1996\n",
    "\n",
    "url = '{}?mode=show&dummy_id={}&year={}'.format(cgi, id, year)\n",
    "\n",
    "response = urllib.request.urlopen(url)\n",
    "response_text = response.read().decode('utf-8')\n",
    "\n",
    "English = 0\n",
    "Mathematics = 0\n",
    "Science = 0\n",
    "Geography = 0\n",
    "\n",
    "count = 0\n",
    "semicount = 0\n",
    "\n",
    "for match in re.findall(r\"<td>(.*?)</td>\", response_text):\n",
    "    if semicount == 0:\n",
    "        count += 1\n",
    "    elif semicount == 1:\n",
    "        English += int(match)\n",
    "    elif semicount == 2:\n",
    "        Mathematics += int(match)\n",
    "    elif semicount == 3:\n",
    "        Science += int(match)\n",
    "    elif semicount == 4:\n",
    "        Geography += int(match)\n",
    "        semicount = -1\n",
    "    semicount += 1\n",
    "    \n",
    "print('{}年：English{}, Mathematics{}, Science{}, Geography and History{}'.format(year, English/count, Mathematics/count, Science/count, Geography/count))"
   ]
  },
  {
   "cell_type": "code",
   "execution_count": 4,
   "metadata": {},
   "outputs": [
    {
     "name": "stdout",
     "output_type": "stream",
     "text": [
      "1990年：English74.37, Mathematics67.83, Science67.60, Geography and History71.67\n",
      "1991年：English73.50, Mathematics78.63, Science71.47, Geography and History74.47\n",
      "1992年：English81.33, Mathematics73.97, Science70.40, Geography and History78.27\n",
      "1993年：English71.40, Mathematics76.33, Science78.60, Geography and History74.73\n",
      "1994年：English74.17, Mathematics75.57, Science75.53, Geography and History76.90\n",
      "1995年：English72.83, Mathematics72.93, Science74.43, Geography and History77.60\n",
      "1996年：English60.00, Mathematics65.73, Science66.13, Geography and History62.07\n",
      "1997年：English71.27, Mathematics70.47, Science64.73, Geography and History68.67\n",
      "1998年：English67.20, Mathematics70.80, Science72.57, Geography and History67.60\n",
      "1999年：English69.57, Mathematics66.97, Science63.30, Geography and History69.20\n",
      "2000年：English82.17, Mathematics86.17, Science78.90, Geography and History84.67\n",
      "2001年：English83.30, Mathematics82.77, Science81.67, Geography and History85.10\n",
      "2002年：English75.60, Mathematics72.70, Science75.13, Geography and History74.37\n",
      "2003年：English82.83, Mathematics83.43, Science85.20, Geography and History82.27\n",
      "2004年：English75.97, Mathematics70.83, Science73.23, Geography and History75.20\n",
      "2005年：English77.00, Mathematics78.80, Science73.30, Geography and History75.30\n",
      "2006年：English72.83, Mathematics70.73, Science72.87, Geography and History71.67\n",
      "2007年：English61.77, Mathematics59.37, Science67.07, Geography and History65.10\n",
      "2008年：English80.57, Mathematics82.17, Science84.13, Geography and History82.60\n",
      "2009年：English86.67, Mathematics86.33, Science83.13, Geography and History79.03\n"
     ]
    }
   ],
   "source": [
    "import urllib.request\n",
    "import csv\n",
    "import pandas as pd\n",
    "import numpy as np\n",
    "\n",
    "cgi = 'https://ta-umedu.biwako.shiga-u.ac.jp/2019_web1/data2.cgi'\n",
    "id = 'your_number'\n",
    "\n",
    "years = [i for i in range(1990, 2010)]\n",
    "\n",
    "for year in years:\n",
    "    url = '{}?mode=show&dummy_id={}&year={}'.format(cgi, id, year)\n",
    "\n",
    "    response = urllib.request.urlopen(url)\n",
    "    response_text = response.read().decode('utf-8')\n",
    "\n",
    "    English = 0\n",
    "    Mathematics = 0\n",
    "    Science = 0\n",
    "    Geography = 0\n",
    "\n",
    "    count = 0\n",
    "    semicount = 0\n",
    "\n",
    "    for match in re.findall(r\"<td>(.*?)</td>\", response_text):\n",
    "        if semicount == 0:\n",
    "            count += 1\n",
    "        elif semicount == 1:\n",
    "            English += int(match)\n",
    "        elif semicount == 2:\n",
    "            Mathematics += int(match)\n",
    "        elif semicount == 3:\n",
    "            Science += int(match)\n",
    "        elif semicount == 4:\n",
    "            Geography += int(match)\n",
    "            semicount = -1\n",
    "        semicount += 1\n",
    "    \n",
    "    print('{}年：English{:.2f}, Mathematics{:.2f}, Science{:.2f}, Geography and History{:.2f}'.format(year, English/count, Mathematics/count, Science/count, Geography/count))"
   ]
  },
  {
   "cell_type": "code",
   "execution_count": null,
   "metadata": {},
   "outputs": [],
   "source": []
  }
 ],
 "metadata": {
  "kernelspec": {
   "display_name": "Python 3",
   "language": "python",
   "name": "python3"
  },
  "language_info": {
   "codemirror_mode": {
    "name": "ipython",
    "version": 3
   },
   "file_extension": ".py",
   "mimetype": "text/x-python",
   "name": "python",
   "nbconvert_exporter": "python",
   "pygments_lexer": "ipython3",
   "version": "3.7.3"
  }
 },
 "nbformat": 4,
 "nbformat_minor": 2
}
