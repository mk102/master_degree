{
 "cells": [
  {
   "cell_type": "code",
   "execution_count": 2,
   "metadata": {},
   "outputs": [],
   "source": [
    "import urllib.request\n",
    "import bs4\n",
    "\n",
    "\n",
    "url = 'https://www.ds.shiga-u.ac.jp/newsindex/'\n",
    "\n",
    "response = urllib.request.urlopen(url)\n",
    "root = bs4.BeautifulSoup(response.read())"
   ]
  },
  {
   "cell_type": "code",
   "execution_count": 2,
   "metadata": {},
   "outputs": [
    {
     "name": "stdout",
     "output_type": "stream",
     "text": [
      "2019年6月6日 滋賀県EBPMモデル研究事業報告会を開催\n",
      "君の未来にチャレンジ！無料オンライン講座「高校生のためのデータサイエンス入門」7月19日開講、受講生募集中。 データサイエンス学部AO入試にも活用\n",
      "助教の公募（データサイエンス分野）7月5日〆切\n",
      "(公財)関西生産性本部、(株)オージス総研と共同「第2期製造業向けデータサイエンス人材育成塾」開催案内（10月7日～11月25日）\n",
      "データサイエンス教育研究センター報”Data Science VIew” Vol.3【PDF】をアップしました\n",
      "データサイエンス研究科博士後期課程 2020年4月設置申請中\n",
      "県外高校（香川県立観音寺第一高等学校）と初の連携協力協定を締結\n",
      "オンラインによる大学生向けデータサイエンス講座を無料開講～AI時代に必須の機械学習手法を解説～\n",
      "佐藤智和 教授が研究代表を務める「実世界の仮想化に基づく高臨場VR防災教育システムの開発」が SCOPEのフェーズⅡに継続採択されました。\n",
      "AERA 2019年5月13日増大号に掲載されました\n",
      "ビッグデータの解析結果に至った原因の関係性を分析・可視化する「因果探索ソリューション」に貢献しました\n",
      "高島市職員のデータ活用能力向上のための研修を実施しました\n",
      "トヨタグループとの連携による、  平成３０年度ビッグデータ分析人材育成プログラム  「機械学習実践道場」の修了報告会を彦根キャンパスで開催。\n",
      "データサイエンス学部生によるスポーツデータ解析に関する記事が朝日新聞デジタルに掲載されました\n",
      "江崎剛史助教、藤澤知親助教、山口崇幸助教が着任しました\n",
      "岩山幸治准教授、高柳昌芳准教授、西出 亮准教授、村松千左子准教授が着任しました\n",
      "佐藤健一教授、杉本知之教授、槙田直木教授が着任しました\n",
      "㈱パルコと連携・協力に関する協定を締結\n",
      "㈱NTTドコモと連携・協力に関する協定を締結\n",
      "㈱インテージホールディングスと産学連携に関する基本協定を締結\n"
     ]
    }
   ],
   "source": [
    "# タイトル出力\n",
    "for i in root.select('.c-news-list__txt'):\n",
    "    print(i.text)"
   ]
  },
  {
   "cell_type": "code",
   "execution_count": 3,
   "metadata": {},
   "outputs": [
    {
     "name": "stdout",
     "output_type": "stream",
     "text": [
      "2019年06月07日\n",
      "2019年6月6日 滋賀県EBPMモデル研究事業報告会を開催\n",
      "2019年06月06日\n",
      "君の未来にチャレンジ！無料オンライン講座「高校生のためのデータサイエンス入門」7月19日開講、受講生募集中。 データサイエンス学部AO入試にも活用\n",
      "2019年05月29日\n",
      "助教の公募（データサイエンス分野）7月5日〆切\n",
      "2019年05月29日\n",
      "(公財)関西生産性本部、(株)オージス総研と共同「第2期製造業向けデータサイエンス人材育成塾」開催案内（10月7日～11月25日）\n",
      "2019年05月28日\n",
      "データサイエンス教育研究センター報”Data Science VIew” Vol.3【PDF】をアップしました\n",
      "2019年05月27日\n",
      "データサイエンス研究科博士後期課程 2020年4月設置申請中\n",
      "2019年05月17日\n",
      "県外高校（香川県立観音寺第一高等学校）と初の連携協力協定を締結\n",
      "2019年05月16日\n",
      "オンラインによる大学生向けデータサイエンス講座を無料開講～AI時代に必須の機械学習手法を解説～\n",
      "2019年05月13日\n",
      "佐藤智和 教授が研究代表を務める「実世界の仮想化に基づく高臨場VR防災教育システムの開発」が SCOPEのフェーズⅡに継続採択されました。\n",
      "2019年05月08日\n",
      "AERA 2019年5月13日増大号に掲載されました\n",
      "2019年04月15日\n",
      "ビッグデータの解析結果に至った原因の関係性を分析・可視化する「因果探索ソリューション」に貢献しました\n",
      "2019年04月08日\n",
      "高島市職員のデータ活用能力向上のための研修を実施しました\n",
      "2019年04月08日\n",
      "トヨタグループとの連携による、  平成３０年度ビッグデータ分析人材育成プログラム  「機械学習実践道場」の修了報告会を彦根キャンパスで開催。\n",
      "2019年04月02日\n",
      "データサイエンス学部生によるスポーツデータ解析に関する記事が朝日新聞デジタルに掲載されました\n",
      "2019年04月01日\n",
      "江崎剛史助教、藤澤知親助教、山口崇幸助教が着任しました\n",
      "2019年04月01日\n",
      "岩山幸治准教授、高柳昌芳准教授、西出 亮准教授、村松千左子准教授が着任しました\n",
      "2019年04月01日\n",
      "佐藤健一教授、杉本知之教授、槙田直木教授が着任しました\n",
      "2019年03月29日\n",
      "㈱パルコと連携・協力に関する協定を締結\n",
      "2019年03月29日\n",
      "㈱NTTドコモと連携・協力に関する協定を締結\n",
      "2019年03月29日\n",
      "㈱インテージホールディングスと産学連携に関する基本協定を締結\n"
     ]
    }
   ],
   "source": [
    "dates = []\n",
    "titles = []\n",
    "for i in root.select('p'):\n",
    "    if '<p class=\"c-news-list__date\">' in str(i):\n",
    "        date = i.text\n",
    "        print(date)\n",
    "        dates.append(date)\n",
    "    elif '<p class=\"c-news-list__txt\">' in str(i):\n",
    "        title = i.text\n",
    "        print(title)\n",
    "        titles.append(title)\n",
    "    else:\n",
    "        pass"
   ]
  },
  {
   "cell_type": "code",
   "execution_count": 4,
   "metadata": {},
   "outputs": [],
   "source": [
    "import pandas as pd"
   ]
  },
  {
   "cell_type": "code",
   "execution_count": 5,
   "metadata": {},
   "outputs": [
    {
     "data": {
      "text/plain": [
       "[['2019年06月07日', '2019年6月6日 滋賀県EBPMモデル研究事業報告会を開催'],\n",
       " ['2019年06月06日',\n",
       "  '君の未来にチャレンジ！無料オンライン講座「高校生のためのデータサイエンス入門」7月19日開講、受講生募集中。 データサイエンス学部AO入試にも活用'],\n",
       " ['2019年05月29日', '助教の公募（データサイエンス分野）7月5日〆切'],\n",
       " ['2019年05月29日',\n",
       "  '(公財)関西生産性本部、(株)オージス総研と共同「第2期製造業向けデータサイエンス人材育成塾」開催案内（10月7日～11月25日）'],\n",
       " ['2019年05月28日', 'データサイエンス教育研究センター報”Data Science VIew” Vol.3【PDF】をアップしました'],\n",
       " ['2019年05月27日', 'データサイエンス研究科博士後期課程 2020年4月設置申請中'],\n",
       " ['2019年05月17日', '県外高校（香川県立観音寺第一高等学校）と初の連携協力協定を締結'],\n",
       " ['2019年05月16日', 'オンラインによる大学生向けデータサイエンス講座を無料開講～AI時代に必須の機械学習手法を解説～'],\n",
       " ['2019年05月13日',\n",
       "  '佐藤智和 教授が研究代表を務める「実世界の仮想化に基づく高臨場VR防災教育システムの開発」が SCOPEのフェーズⅡに継続採択されました。'],\n",
       " ['2019年05月08日', 'AERA 2019年5月13日増大号に掲載されました'],\n",
       " ['2019年04月15日', 'ビッグデータの解析結果に至った原因の関係性を分析・可視化する「因果探索ソリューション」に貢献しました'],\n",
       " ['2019年04月08日', '高島市職員のデータ活用能力向上のための研修を実施しました'],\n",
       " ['2019年04月08日',\n",
       "  'トヨタグループとの連携による、  平成３０年度ビッグデータ分析人材育成プログラム  「機械学習実践道場」の修了報告会を彦根キャンパスで開催。'],\n",
       " ['2019年04月02日', 'データサイエンス学部生によるスポーツデータ解析に関する記事が朝日新聞デジタルに掲載されました'],\n",
       " ['2019年04月01日', '江崎剛史助教、藤澤知親助教、山口崇幸助教が着任しました'],\n",
       " ['2019年04月01日', '岩山幸治准教授、高柳昌芳准教授、西出 亮准教授、村松千左子准教授が着任しました'],\n",
       " ['2019年04月01日', '佐藤健一教授、杉本知之教授、槙田直木教授が着任しました'],\n",
       " ['2019年03月29日', '㈱パルコと連携・協力に関する協定を締結'],\n",
       " ['2019年03月29日', '㈱NTTドコモと連携・協力に関する協定を締結'],\n",
       " ['2019年03月29日', '㈱インテージホールディングスと産学連携に関する基本協定を締結']]"
      ]
     },
     "execution_count": 5,
     "metadata": {},
     "output_type": "execute_result"
    }
   ],
   "source": [
    "data = []\n",
    "for date, title in zip(dates, titles):\n",
    "    data.append([date, title])\n",
    "data"
   ]
  },
  {
   "cell_type": "code",
   "execution_count": 6,
   "metadata": {},
   "outputs": [],
   "source": [
    "df = pd.DataFrame(data, columns=['日付', 'タイトル'])"
   ]
  },
  {
   "cell_type": "code",
   "execution_count": 7,
   "metadata": {},
   "outputs": [],
   "source": [
    "df.to_csv(\"ensyu3.csv\", encoding='utf-8')"
   ]
  },
  {
   "cell_type": "code",
   "execution_count": 5,
   "metadata": {},
   "outputs": [
    {
     "ename": "WebDriverException",
     "evalue": "Message: 'chromedriver' executable needs to be in PATH. Please see https://sites.google.com/a/chromium.org/chromedriver/home\n",
     "output_type": "error",
     "traceback": [
      "\u001b[0;31m---------------------------------------------------------------------------\u001b[0m",
      "\u001b[0;31mFileNotFoundError\u001b[0m                         Traceback (most recent call last)",
      "\u001b[0;32m~/anaconda3/lib/python3.7/site-packages/selenium/webdriver/common/service.py\u001b[0m in \u001b[0;36mstart\u001b[0;34m(self)\u001b[0m\n\u001b[1;32m     75\u001b[0m                                             \u001b[0mstderr\u001b[0m\u001b[0;34m=\u001b[0m\u001b[0mself\u001b[0m\u001b[0;34m.\u001b[0m\u001b[0mlog_file\u001b[0m\u001b[0;34m,\u001b[0m\u001b[0;34m\u001b[0m\u001b[0;34m\u001b[0m\u001b[0m\n\u001b[0;32m---> 76\u001b[0;31m                                             stdin=PIPE)\n\u001b[0m\u001b[1;32m     77\u001b[0m         \u001b[0;32mexcept\u001b[0m \u001b[0mTypeError\u001b[0m\u001b[0;34m:\u001b[0m\u001b[0;34m\u001b[0m\u001b[0;34m\u001b[0m\u001b[0m\n",
      "\u001b[0;32m~/anaconda3/lib/python3.7/subprocess.py\u001b[0m in \u001b[0;36m__init__\u001b[0;34m(self, args, bufsize, executable, stdin, stdout, stderr, preexec_fn, close_fds, shell, cwd, env, universal_newlines, startupinfo, creationflags, restore_signals, start_new_session, pass_fds, encoding, errors, text)\u001b[0m\n\u001b[1;32m    774\u001b[0m                                 \u001b[0merrread\u001b[0m\u001b[0;34m,\u001b[0m \u001b[0merrwrite\u001b[0m\u001b[0;34m,\u001b[0m\u001b[0;34m\u001b[0m\u001b[0;34m\u001b[0m\u001b[0m\n\u001b[0;32m--> 775\u001b[0;31m                                 restore_signals, start_new_session)\n\u001b[0m\u001b[1;32m    776\u001b[0m         \u001b[0;32mexcept\u001b[0m\u001b[0;34m:\u001b[0m\u001b[0;34m\u001b[0m\u001b[0;34m\u001b[0m\u001b[0m\n",
      "\u001b[0;32m~/anaconda3/lib/python3.7/subprocess.py\u001b[0m in \u001b[0;36m_execute_child\u001b[0;34m(self, args, executable, preexec_fn, close_fds, pass_fds, cwd, env, startupinfo, creationflags, shell, p2cread, p2cwrite, c2pread, c2pwrite, errread, errwrite, restore_signals, start_new_session)\u001b[0m\n\u001b[1;32m   1521\u001b[0m                             \u001b[0merr_msg\u001b[0m \u001b[0;34m+=\u001b[0m \u001b[0;34m': '\u001b[0m \u001b[0;34m+\u001b[0m \u001b[0mrepr\u001b[0m\u001b[0;34m(\u001b[0m\u001b[0merr_filename\u001b[0m\u001b[0;34m)\u001b[0m\u001b[0;34m\u001b[0m\u001b[0;34m\u001b[0m\u001b[0m\n\u001b[0;32m-> 1522\u001b[0;31m                     \u001b[0;32mraise\u001b[0m \u001b[0mchild_exception_type\u001b[0m\u001b[0;34m(\u001b[0m\u001b[0merrno_num\u001b[0m\u001b[0;34m,\u001b[0m \u001b[0merr_msg\u001b[0m\u001b[0;34m,\u001b[0m \u001b[0merr_filename\u001b[0m\u001b[0;34m)\u001b[0m\u001b[0;34m\u001b[0m\u001b[0;34m\u001b[0m\u001b[0m\n\u001b[0m\u001b[1;32m   1523\u001b[0m                 \u001b[0;32mraise\u001b[0m \u001b[0mchild_exception_type\u001b[0m\u001b[0;34m(\u001b[0m\u001b[0merr_msg\u001b[0m\u001b[0;34m)\u001b[0m\u001b[0;34m\u001b[0m\u001b[0;34m\u001b[0m\u001b[0m\n",
      "\u001b[0;31mFileNotFoundError\u001b[0m: [Errno 2] No such file or directory: './chromedriver': './chromedriver'",
      "\nDuring handling of the above exception, another exception occurred:\n",
      "\u001b[0;31mWebDriverException\u001b[0m                        Traceback (most recent call last)",
      "\u001b[0;32m<ipython-input-5-434304673b3a>\u001b[0m in \u001b[0;36m<module>\u001b[0;34m\u001b[0m\n\u001b[1;32m      4\u001b[0m \u001b[0murl\u001b[0m \u001b[0;34m=\u001b[0m \u001b[0;34m'https://ta-umedu.biwako.shiga-u.ac.jp/2019_web1/auth.cgi'\u001b[0m\u001b[0;34m\u001b[0m\u001b[0;34m\u001b[0m\u001b[0m\n\u001b[1;32m      5\u001b[0m \u001b[0;34m\u001b[0m\u001b[0m\n\u001b[0;32m----> 6\u001b[0;31m \u001b[0mbrowser\u001b[0m \u001b[0;34m=\u001b[0m \u001b[0mwebdriver\u001b[0m\u001b[0;34m.\u001b[0m\u001b[0mChrome\u001b[0m\u001b[0;34m(\u001b[0m\u001b[0mexecutable_path\u001b[0m\u001b[0;34m=\u001b[0m\u001b[0mdriver_path\u001b[0m\u001b[0;34m)\u001b[0m\u001b[0;34m\u001b[0m\u001b[0;34m\u001b[0m\u001b[0m\n\u001b[0m\u001b[1;32m      7\u001b[0m \u001b[0mbrowser\u001b[0m\u001b[0;34m.\u001b[0m\u001b[0mget\u001b[0m\u001b[0;34m(\u001b[0m\u001b[0murl\u001b[0m\u001b[0;34m)\u001b[0m\u001b[0;34m\u001b[0m\u001b[0;34m\u001b[0m\u001b[0m\n",
      "\u001b[0;32m~/anaconda3/lib/python3.7/site-packages/selenium/webdriver/chrome/webdriver.py\u001b[0m in \u001b[0;36m__init__\u001b[0;34m(self, executable_path, port, options, service_args, desired_capabilities, service_log_path, chrome_options, keep_alive)\u001b[0m\n\u001b[1;32m     71\u001b[0m             \u001b[0mservice_args\u001b[0m\u001b[0;34m=\u001b[0m\u001b[0mservice_args\u001b[0m\u001b[0;34m,\u001b[0m\u001b[0;34m\u001b[0m\u001b[0;34m\u001b[0m\u001b[0m\n\u001b[1;32m     72\u001b[0m             log_path=service_log_path)\n\u001b[0;32m---> 73\u001b[0;31m         \u001b[0mself\u001b[0m\u001b[0;34m.\u001b[0m\u001b[0mservice\u001b[0m\u001b[0;34m.\u001b[0m\u001b[0mstart\u001b[0m\u001b[0;34m(\u001b[0m\u001b[0;34m)\u001b[0m\u001b[0;34m\u001b[0m\u001b[0;34m\u001b[0m\u001b[0m\n\u001b[0m\u001b[1;32m     74\u001b[0m \u001b[0;34m\u001b[0m\u001b[0m\n\u001b[1;32m     75\u001b[0m         \u001b[0;32mtry\u001b[0m\u001b[0;34m:\u001b[0m\u001b[0;34m\u001b[0m\u001b[0;34m\u001b[0m\u001b[0m\n",
      "\u001b[0;32m~/anaconda3/lib/python3.7/site-packages/selenium/webdriver/common/service.py\u001b[0m in \u001b[0;36mstart\u001b[0;34m(self)\u001b[0m\n\u001b[1;32m     81\u001b[0m                 raise WebDriverException(\n\u001b[1;32m     82\u001b[0m                     \"'%s' executable needs to be in PATH. %s\" % (\n\u001b[0;32m---> 83\u001b[0;31m                         os.path.basename(self.path), self.start_error_message)\n\u001b[0m\u001b[1;32m     84\u001b[0m                 )\n\u001b[1;32m     85\u001b[0m             \u001b[0;32melif\u001b[0m \u001b[0merr\u001b[0m\u001b[0;34m.\u001b[0m\u001b[0merrno\u001b[0m \u001b[0;34m==\u001b[0m \u001b[0merrno\u001b[0m\u001b[0;34m.\u001b[0m\u001b[0mEACCES\u001b[0m\u001b[0;34m:\u001b[0m\u001b[0;34m\u001b[0m\u001b[0;34m\u001b[0m\u001b[0m\n",
      "\u001b[0;31mWebDriverException\u001b[0m: Message: 'chromedriver' executable needs to be in PATH. Please see https://sites.google.com/a/chromium.org/chromedriver/home\n"
     ]
    }
   ],
   "source": [
    "from selenium import webdriver\n",
    "\n",
    "driver_path = './chromedriver'\n",
    "url = 'https://ta-umedu.biwako.shiga-u.ac.jp/2019_web1/auth.cgi'\n",
    "\n",
    "browser = webdriver.Chrome(executable_path=driver_path)\n",
    "browser.get(url)"
   ]
  },
  {
   "cell_type": "code",
   "execution_count": 52,
   "metadata": {},
   "outputs": [],
   "source": [
    "elem_mail_address = browser.find_elements_by_name('mail_address')[0]\n",
    "elem_password = browser.find_elements_by_name('passwd')[0]"
   ]
  },
  {
   "cell_type": "code",
   "execution_count": 53,
   "metadata": {},
   "outputs": [],
   "source": [
    "elem_mail_address.send_keys('s6019105@st.shiga-u.ac.jp')\n",
    "elem_password.send_keys('gangangan')"
   ]
  },
  {
   "cell_type": "code",
   "execution_count": 54,
   "metadata": {},
   "outputs": [],
   "source": [
    "elem_password.submit()"
   ]
  },
  {
   "cell_type": "code",
   "execution_count": 55,
   "metadata": {},
   "outputs": [],
   "source": [
    "import time\n",
    "for i in range(10):\n",
    "    text_box = browser.find_elements_by_name('year')[0]\n",
    "    year = i + 1995\n",
    "    text_box.send_keys('{}'.format(year))\n",
    "    text_box.submit()\n",
    "    text_box.clear()\n",
    "    time.sleep(5)"
   ]
  },
  {
   "cell_type": "code",
   "execution_count": 67,
   "metadata": {},
   "outputs": [
    {
     "name": "stdout",
     "output_type": "stream",
     "text": [
      "1995 : English78.23, Mathematics78.70, Science80.57, Geography and History82.40\n",
      "1996 : English75.60, Mathematics72.93, Science73.37, Geography and History72.40\n",
      "1997 : English78.73, Mathematics76.40, Science72.77, Geography and History72.23\n",
      "1998 : English78.97, Mathematics85.30, Science79.10, Geography and History79.63\n",
      "1999 : English77.73, Mathematics76.10, Science72.00, Geography and History74.77\n",
      "2000 : English70.83, Mathematics76.63, Science69.67, Geography and History74.00\n",
      "2001 : English81.73, Mathematics78.07, Science80.07, Geography and History80.30\n",
      "2002 : English82.97, Mathematics79.53, Science81.33, Geography and History83.97\n",
      "2003 : English76.00, Mathematics76.23, Science74.63, Geography and History74.03\n",
      "2004 : English70.27, Mathematics66.00, Science66.83, Geography and History70.90\n"
     ]
    }
   ],
   "source": [
    "for i in range(10):\n",
    "    year = i + 1995\n",
    "    data = pd.read_csv('./data/dummy_{}.csv'.format(year))\n",
    "    en = data['English'].mean()\n",
    "    ma = data['Mathematics'].mean()\n",
    "    sc = data['Science'].mean()\n",
    "    ge = data['Geography and History'].mean()\n",
    "    print('{} : English{:.2f}, Mathematics{:.2f}, Science{:.2f}, Geography and History{:.2f}'.format(year, en, ma, sc, ge))"
   ]
  },
  {
   "cell_type": "code",
   "execution_count": null,
   "metadata": {},
   "outputs": [],
   "source": []
  }
 ],
 "metadata": {
  "kernelspec": {
   "display_name": "Python 3",
   "language": "python",
   "name": "python3"
  },
  "language_info": {
   "codemirror_mode": {
    "name": "ipython",
    "version": 3
   },
   "file_extension": ".py",
   "mimetype": "text/x-python",
   "name": "python",
   "nbconvert_exporter": "python",
   "pygments_lexer": "ipython3",
   "version": "3.7.3"
  }
 },
 "nbformat": 4,
 "nbformat_minor": 2
}
