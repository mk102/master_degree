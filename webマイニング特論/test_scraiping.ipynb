{
 "cells": [
  {
   "cell_type": "code",
   "execution_count": 1,
   "metadata": {},
   "outputs": [],
   "source": [
    "import urllib.request\n",
    "import re\n",
    "\n",
    "url = 'https://www.ds.shiga-u.ac.jp/faculty/'\n",
    "\n",
    "response = urllib.request.urlopen(url)\n",
    "response_text = response.read().decode('utf-8')"
   ]
  },
  {
   "cell_type": "code",
   "execution_count": 9,
   "metadata": {},
   "outputs": [],
   "source": [
    "namae = []\n",
    "r = '<span class=\"glyphicon glyphicon-menu-right\"></span>'\n",
    "for match in re.findall(r\"<th>(.*?)</th>\", response_text):\n",
    "    match1 = match.replace(r, \"\")\n",
    "    namae.append(match1)"
   ]
  },
  {
   "cell_type": "code",
   "execution_count": 10,
   "metadata": {},
   "outputs": [],
   "source": [
    "yaku = []\n",
    "for match in re.findall(r\"<td>(.*?)</td>\", response_text):\n",
    "    yaku.append(match)"
   ]
  },
  {
   "cell_type": "code",
   "execution_count": 11,
   "metadata": {},
   "outputs": [
    {
     "name": "stdout",
     "output_type": "stream",
     "text": [
      "竹村 彰通:教授、データサイエンス教育研究センター長/数理統計学\n",
      "和泉 志津恵:教授/統計科学・統計教育\n",
      "市川 治:教授/情報学\n",
      "岩山 幸治:准教授/情報学\n",
      "梅津 高朗:准教授/情報学\n",
      "川井 明:准教授/情報学\n",
      "河本 薫:教授/データ分析による意思決定支援\n",
      "熊澤 吉起:教授/数理統計学\n",
      "齋藤 邦彦:教授/人文社会情報学\n",
      "佐藤 智和:教授/情報学\n",
      " 清水 昌平:教授/統計科学\n",
      " 周 暁康:講師/情報学\n",
      " 杉本 知之:教授/統計科学\n",
      " 伊達 平和:講師/家族社会学\n",
      " 田中 琢真:准教授/神経科学\n",
      " 姫野 哲人:准教授/数理統計学\n",
      " 藤井 孝之:准教授/数理統計学\n",
      " 笛田 薫:教授/数理統計学\n",
      " 槙田 直木:教授/公的統計\n",
      " 松井 秀俊:准教授/統計科学\n",
      " 村松 千左子:准教授/医用画像解析<code>\n",
      " 小郷原 一智:特任講師、滋賀県立大学工学部 助教/惑星科学・気象学\n",
      " 加藤 博和:特別招聘教授、名古屋大学大学院環境学研究科 教授/交通計画・環境評価\n",
      " 北廣 和雄:特別招聘教授、積水化学工業株式会社 技術顧問/品質管理\n",
      " 小松 秀樹:特別招聘講師、特定非営利活動法人ビュー・コミュニケーションズ　副理事長/\n",
      " 椎名 洋:教授（クロスアポイントメント）、信州大学経法学部 教授\n",
      " 白井 剛:特別招聘教授、長浜バイオ大学バイオサイエンス学部 教授/情報構造生物学\n",
      " 田中 佐智子:准教授（クロスアポイントメント）、滋賀医科大学医学系研究科 准教授/医療統計学\n",
      " 畑山 満則:特別招聘教授、京都大学防災研究所 教授/空間情報学\n"
     ]
    }
   ],
   "source": [
    "for n, y in zip(namae, yaku):\n",
    "    print('{}:{}'.format(n, y))"
   ]
  },
  {
   "cell_type": "code",
   "execution_count": 3,
   "metadata": {},
   "outputs": [],
   "source": [
    "from bs4 import BeautifulSoup"
   ]
  },
  {
   "cell_type": "code",
   "execution_count": 83,
   "metadata": {},
   "outputs": [],
   "source": [
    "html = urllib.request.urlopen('http://gigazine.net').read()\n",
    "soup = BeautifulSoup(html, 'lxml')"
   ]
  },
  {
   "cell_type": "code",
   "execution_count": 84,
   "metadata": {},
   "outputs": [],
   "source": [
    "tables = soup.findAll('div', class_ = \"card\") "
   ]
  },
  {
   "cell_type": "code",
   "execution_count": 98,
   "metadata": {},
   "outputs": [
    {
     "name": "stdout",
     "output_type": "stream",
     "text": [
      "車が走りスマホが普及した現実のようなファンタジー世界をエルフの兄弟が冒険するディズニー・ピクサー最新作「Onward」予告編\n",
      "アメリカのビザ申請にソーシャルメディアのID提出が必須になる\n",
      "Googleで検索した動物がAR空間に登場して触れ合える機能がリリースされる\n",
      "Twitterの利用は優秀な人の知性に悪影響を与える恐れがある\n",
      "マカダミアナッツの遺伝的多様性は非常に乏しく商業栽培種の70％が単一の起源を持つ\n",
      "ゴロっと大きな夏野菜と7種の香辛料を合わせたヘルシー＆スパイシーな「大人のスパイスカレー THE チキベジ」をCoCo壱番屋で食べてきた\n",
      "絵文字や句読点マシマシでドン引きされがちな「おじさんLINE」をボタン1つで作り出せる「おじさん文章ジェネレーター」\n",
      "Googleのクラウドで大規模障害が発生、YouTubeやGmailなど多くのサービスが影響を受ける\n",
      "人はAR上のアバターも人間だと感じてしまうという研究結果\n",
      "いつも遅刻してしまう人は「あえて遅刻しそうなスリルを味わっている」のかもしれない\n",
      "「薬が高ければ自分で作ればいい」とバイオハッカー集団が特許フリーなインスリンの開発を目指す「オープン・インスリン・プロジェクト」\n",
      "コンビでごみ掃除と床拭きをしてくれるiRobotの最新お掃除ロボット「ルンバS9＋」と床拭きロボット「ブラーバジェットM6」が登場\n",
      "最も幸福度が高いのは「未婚かつ子どものいない女性」\n",
      "Googleストリートビュー上をひたすらうろつき続ける様子を見られる「Street View Random Walker」\n",
      "ポケモンGOのApple Watchサポートが間もなく終了\n",
      "オシャレなフラットデザインを擬似的に3D化できるブラウザ向け3Dエンジン「Zdog」\n",
      "「Googleが収集した個人情報で検索結果をゆがめている」問題について大手検索エンジンDuckDuckGoのCEOが強く批判\n",
      "子ども含め15人が残酷に虐殺されたのに丁寧かつ慎重に埋められた埋葬跡が見つかる\n",
      "万能の天才ダ・ヴィンチは発達障害だったのかもしれない\n",
      "新作バットマン映画でバットマンを演じるのはロバート・パティンソンに決定\n",
      "運動は脳の記憶領域を活性化させ、運動を継続すると記憶に良い影響を与えるという可能性がある\n",
      "結核という病気が1つの時代の「美」と「ファッション」を作り上げた\n",
      "堺雅人に「こんなにクレイジーなアニメだったんですね」と言わしめた映画「プロメア」舞台挨拶レポート\n",
      "地球温暖化に個人単位で抵抗する20の方法\n",
      "「GIGAZINEマンガ大賞」2019年6月度募集開始＆トップ画メイキングはこんな感じ\n",
      "合唱中に突如「ダース・ベイダーのテーマ」を歌って舞台を乗っ取った少年にルーク・スカイウォーカーが放った一言とは？\n",
      "シトロエンが手がけたドライブが快適になる魔法のメガネ「シートロエン」を実際に使用してみた\n",
      "塩レモン＆ミントで口の中がスカッと爽やかになる「C．C．レモン ソルティレモン」試飲レビュー\n",
      "Huawei創業者が「Androidサポート終了」や「チップメーカーとの取引停止」など、アメリカ政府によるHuawei排除の動きについて語る\n",
      "Qualcommは20年近くもスマホ業界を支配して競争を停滞させてきたという指摘\n",
      "歓声と拍手が湧き上がり美しい芸術花火が堪能できる「京都芸術花火2019」を見てきました\n",
      "2019年5月31日のヘッドラインニュース\n",
      "迷惑なスパム行為やマルウェアの拡散を「手助け」した個人に最大1億円以上の罰金を科す法律が使用されている\n",
      "Google Earthと金属探知機を駆使して地中の財宝を探すハンター集団「Weekend Wanderers」\n",
      "Amazonが格安携帯キャリアの買収を行う可能性が浮上\n",
      "たった1000円でロボットの触覚代わりになるセンサー内蔵手袋をMITが開発\n",
      "ディズニーランドにオープンする新テーマパーク「スター・ウォーズ：ギャラクシーズ・エッジ」がよくわかる写真＆ムービーまとめ\n",
      "穏やかな余生を過ごすランボーが麻薬カルテルとの壮絶な戦いに身を投じる「ランボー5：ラスト・ブラッド」予告編公開\n",
      "強烈なマンゴーの香りと100％完熟パインソフトの甘さが溶け合うミニストップ「沖縄パイン＆マンゴー」「沖縄パインソフト」を食べてみた\n",
      "双方向128GB/sの最大転送速度を誇る次世代規格「PCI Express 5.0」の策定が完了\n",
      "None\n",
      "None\n",
      "None\n"
     ]
    }
   ],
   "source": [
    "r = r\"<span>(.*?)</span>\"\n",
    "for table in tables:\n",
    "    ta1 = table.findAll('h2')\n",
    "    for t in ta1:\n",
    "        ta2 = t.findAll('a')\n",
    "        for t in ta2:\n",
    "            title = t.get('title')\n",
    "            print(title)"
   ]
  },
  {
   "cell_type": "code",
   "execution_count": 4,
   "metadata": {},
   "outputs": [],
   "source": [
    "# 映画ドットコムのランキング10位取得\n",
    "html = urllib.request.urlopen('https://eiga.com/ranking/').read()\n",
    "soup = BeautifulSoup(html, 'lxml')"
   ]
  },
  {
   "cell_type": "code",
   "execution_count": 5,
   "metadata": {},
   "outputs": [],
   "source": [
    "tables = soup.findAll('tbody') "
   ]
  },
  {
   "cell_type": "code",
   "execution_count": 6,
   "metadata": {},
   "outputs": [],
   "source": [
    "titles = []"
   ]
  },
  {
   "cell_type": "code",
   "execution_count": 7,
   "metadata": {},
   "outputs": [],
   "source": [
    "for table in tables:\n",
    "    ta1 = table.findAll('tr')\n",
    "    for t in ta1:\n",
    "        ta2 = t.find('a')\n",
    "        ta3 = ta2.findAll('img')\n",
    "        for t in ta3:\n",
    "            title = t.get('alt')\n",
    "            titles.append(title)"
   ]
  },
  {
   "cell_type": "code",
   "execution_count": 8,
   "metadata": {},
   "outputs": [],
   "source": [
    "rank = [i for i in range(1, 11)]"
   ]
  },
  {
   "cell_type": "code",
   "execution_count": 9,
   "metadata": {},
   "outputs": [],
   "source": [
    "tables = soup.findAll('h3')\n",
    "#print(tables[0])\n",
    "date = str(tables[0]).replace(\"<h3>\", \"\")\n",
    "date = date.replace(\"</h3>\", \"\")"
   ]
  },
  {
   "cell_type": "code",
   "execution_count": 10,
   "metadata": {},
   "outputs": [
    {
     "name": "stdout",
     "output_type": "stream",
     "text": [
      "映画ランキング ： 2019年6月3日発表（毎週火曜更新）\n",
      "第1位　：　ゴジラ キング・オブ・モンスターズ\n",
      "第2位　：　コンフィデンスマンJP\n",
      "第3位　：　空母いぶき\n",
      "第4位　：　パラレルワールド・ラブストーリー\n",
      "第5位　：　名探偵ピカチュウ\n",
      "第6位　：　キングダム\n",
      "第7位　：　貞子\n",
      "第8位　：　名探偵コナン 紺青の拳（フィスト）\n",
      "第9位　：　アベンジャーズ エンドゲーム\n",
      "第10位　：　プロメア\n"
     ]
    }
   ],
   "source": [
    "print(date)\n",
    "for i in range(10):\n",
    "    print('第{}位　：　{}'.format(rank[i], titles[i]))"
   ]
  },
  {
   "cell_type": "code",
   "execution_count": null,
   "metadata": {},
   "outputs": [],
   "source": []
  }
 ],
 "metadata": {
  "kernelspec": {
   "display_name": "Python 3",
   "language": "python",
   "name": "python3"
  },
  "language_info": {
   "codemirror_mode": {
    "name": "ipython",
    "version": 3
   },
   "file_extension": ".py",
   "mimetype": "text/x-python",
   "name": "python",
   "nbconvert_exporter": "python",
   "pygments_lexer": "ipython3",
   "version": "3.7.3"
  }
 },
 "nbformat": 4,
 "nbformat_minor": 2
}
