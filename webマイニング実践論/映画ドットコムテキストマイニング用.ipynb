{
 "cells": [
  {
   "cell_type": "code",
   "execution_count": 1,
   "metadata": {},
   "outputs": [],
   "source": [
    "import urllib.request\n",
    "import re\n",
    "from bs4 import BeautifulSoup"
   ]
  },
  {
   "cell_type": "code",
   "execution_count": 2,
   "metadata": {},
   "outputs": [],
   "source": [
    "# 映画ドットコムのランキング10位取得\n",
    "html = urllib.request.urlopen('https://eiga.com/movie/80000/').read()\n",
    "soup = BeautifulSoup(html, 'lxml')"
   ]
  },
  {
   "cell_type": "code",
   "execution_count": 3,
   "metadata": {},
   "outputs": [],
   "source": [
    "# タイトル取得\n",
    "titles = soup.findAll('div', class_ = \"moveInfoBox\")"
   ]
  },
  {
   "cell_type": "code",
   "execution_count": 4,
   "metadata": {},
   "outputs": [],
   "source": [
    "for title in titles:\n",
    "     ti1 = title.findAll('h1')\n",
    "title = str(ti1[0]).replace(\"<h1 itemprop=\\\"name\\\">\", \"\")\n",
    "title = str(title).replace(\"</h1>\", \"\")"
   ]
  },
  {
   "cell_type": "code",
   "execution_count": 5,
   "metadata": {},
   "outputs": [
    {
     "data": {
      "text/plain": [
       "[<div class=\"outline\"> <h3>解説</h3> <p itemprop=\"description\">2012年結成のアイドルグループ「BELLRING少女ハート」（通称：ベルハー）が初主演を務めた異色のアイドル映画。アイドルグループ「BELLRING少女ハート」のメンバーがライブ中にステージ上からおもちゃのはずのピストルを撃つが、本物のピストルにすり替えられていたことから、観客を誤って射殺してしまう。さらに、身代わりとなって逮捕された仲間のBUTCHが、その後にUFOに誘拐されてしまうという事態が発生。謎が謎を呼ぶ中、ベルハーの面々はピストルをすり替えた犯人や宇宙人、モンスターなどが入り乱れる6次元空間へと飛び込んでいく。「ヌイグルマーZ」「山形スクリーム」などの脚本やテレビドラマ「CLAMPドラマ　ホリック xxxHOLiC」の監督も務めた継田淳がメガホンをとった。14年5月で閉館の東京・吉祥寺バウスシアターでロケ撮影が行われ、同館のクロージング作品の1つとして劇場公開。</p> </div>]"
      ]
     },
     "execution_count": 5,
     "metadata": {},
     "output_type": "execute_result"
    }
   ],
   "source": [
    "tables = soup.findAll('div', class_ = \"outline\") \n",
    "tables"
   ]
  },
  {
   "cell_type": "code",
   "execution_count": 6,
   "metadata": {},
   "outputs": [
    {
     "data": {
      "text/plain": [
       "[<p itemprop=\"description\">2012年結成のアイドルグループ「BELLRING少女ハート」（通称：ベルハー）が初主演を務めた異色のアイドル映画。アイドルグループ「BELLRING少女ハート」のメンバーがライブ中にステージ上からおもちゃのはずのピストルを撃つが、本物のピストルにすり替えられていたことから、観客を誤って射殺してしまう。さらに、身代わりとなって逮捕された仲間のBUTCHが、その後にUFOに誘拐されてしまうという事態が発生。謎が謎を呼ぶ中、ベルハーの面々はピストルをすり替えた犯人や宇宙人、モンスターなどが入り乱れる6次元空間へと飛び込んでいく。「ヌイグルマーZ」「山形スクリーム」などの脚本やテレビドラマ「CLAMPドラマ　ホリック xxxHOLiC」の監督も務めた継田淳がメガホンをとった。14年5月で閉館の東京・吉祥寺バウスシアターでロケ撮影が行われ、同館のクロージング作品の1つとして劇場公開。</p>]"
      ]
     },
     "execution_count": 6,
     "metadata": {},
     "output_type": "execute_result"
    }
   ],
   "source": [
    "for table in tables:\n",
    "    ta1 = table.findAll('p')\n",
    "ta1"
   ]
  },
  {
   "cell_type": "code",
   "execution_count": 7,
   "metadata": {},
   "outputs": [],
   "source": [
    "date = str(ta1[0]).replace(\"<p itemprop=\\\"description\\\">\", \"\")\n",
    "date = date.replace('</p>', \"\")"
   ]
  },
  {
   "cell_type": "code",
   "execution_count": 8,
   "metadata": {},
   "outputs": [
    {
     "data": {
      "text/plain": [
       "'2012年結成のアイドルグループ「BELLRING少女ハート」（通称：ベルハー）が初主演を務めた異色のアイドル映画。アイドルグループ「BELLRING少女ハート」のメンバーがライブ中にステージ上からおもちゃのはずのピストルを撃つが、本物のピストルにすり替えられていたことから、観客を誤って射殺してしまう。さらに、身代わりとなって逮捕された仲間のBUTCHが、その後にUFOに誘拐されてしまうという事態が発生。謎が謎を呼ぶ中、ベルハーの面々はピストルをすり替えた犯人や宇宙人、モンスターなどが入り乱れる6次元空間へと飛び込んでいく。「ヌイグルマーZ」「山形スクリーム」などの脚本やテレビドラマ「CLAMPドラマ\\u3000ホリック xxxHOLiC」の監督も務めた継田淳がメガホンをとった。14年5月で閉館の東京・吉祥寺バウスシアターでロケ撮影が行われ、同館のクロージング作品の1つとして劇場公開。'"
      ]
     },
     "execution_count": 8,
     "metadata": {},
     "output_type": "execute_result"
    }
   ],
   "source": [
    "date"
   ]
  },
  {
   "cell_type": "code",
   "execution_count": 9,
   "metadata": {},
   "outputs": [],
   "source": [
    "with open('./text/{}.txt'.format(title), 'w') as f:\n",
    "    f.write(date)"
   ]
  },
  {
   "cell_type": "code",
   "execution_count": null,
   "metadata": {},
   "outputs": [
    {
     "name": "stdout",
     "output_type": "stream",
     "text": [
      "2\n",
      "71\n",
      "77\n",
      "103\n",
      "104\n",
      "115\n",
      "118\n",
      "171\n",
      "191\n",
      "209\n",
      "236\n",
      "258\n",
      "265\n",
      "288\n",
      "290\n",
      "312\n",
      "372\n",
      "375\n",
      "397\n",
      "424\n",
      "431\n",
      "438\n",
      "441\n",
      "449\n",
      "502\n",
      "529\n",
      "531\n",
      "624\n",
      "650\n",
      "653\n",
      "655\n",
      "688\n",
      "692\n",
      "700\n",
      "716\n",
      "725\n",
      "737\n",
      "738\n",
      "770\n",
      "779\n",
      "781\n",
      "802\n",
      "803\n",
      "810\n",
      "826\n",
      "827\n",
      "838\n",
      "869\n",
      "870\n",
      "871\n",
      "877\n",
      "880\n",
      "895\n",
      "943\n",
      "945\n",
      "995\n",
      "997\n",
      "998\n",
      "1031\n",
      "1045\n",
      "1060\n",
      "1062\n",
      "1067\n",
      "1119\n",
      "1145\n",
      "1217\n",
      "1244\n",
      "1297\n",
      "1312\n",
      "1354\n",
      "1429\n",
      "1430\n",
      "1464\n",
      "1551\n",
      "1560\n",
      "1590\n",
      "1591\n",
      "1606\n",
      "1623\n",
      "1638\n",
      "1642\n",
      "1673\n",
      "1727\n",
      "1758\n",
      "1770\n",
      "1772\n",
      "1781\n",
      "1788\n",
      "1926\n",
      "2044\n",
      "2054\n",
      "2055\n",
      "2069\n",
      "2077\n",
      "2083\n",
      "2122\n",
      "2124\n",
      "2129\n",
      "2135\n",
      "2166\n",
      "2198\n",
      "2220\n",
      "2238\n",
      "2240\n",
      "2245\n",
      "2254\n",
      "2303\n",
      "2304\n",
      "2345\n",
      "2359\n",
      "2372\n",
      "2373\n",
      "2374\n",
      "2376\n",
      "2383\n"
     ]
    }
   ],
   "source": [
    "import time\n",
    "for i in range(10000):\n",
    "    time.sleep(5)\n",
    "    try:\n",
    "        num = 10000 + i\n",
    "        url = \"https://eiga.com/movie/{}/\".format(num)\n",
    "        html = urllib.request.urlopen(url).read()\n",
    "        soup = BeautifulSoup(html, 'lxml')\n",
    "        # タイトル取得\n",
    "        titles = soup.findAll('div', class_ = \"moveInfoBox\")\n",
    "        for title in titles:\n",
    "             ti1 = title.findAll('h1')\n",
    "        title = str(ti1[0]).replace(\"<h1 itemprop=\\\"name\\\">\", \"\")\n",
    "        title = str(title).replace(\"</h1>\", \"\")\n",
    "        tables = soup.findAll('div', class_ = \"outline\") \n",
    "        for table in tables:\n",
    "            ta1 = table.findAll('p')\n",
    "        date = str(ta1[0]).replace(\"<p itemprop=\\\"description\\\">\", \"\")\n",
    "        date = date.replace('</p>', \"\")\n",
    "        print(i)\n",
    "        with open('./text/{}.txt'.format(title), mode='w') as f:\n",
    "            f.write(date)\n",
    "    except:\n",
    "        pass"
   ]
  },
  {
   "cell_type": "code",
   "execution_count": null,
   "metadata": {},
   "outputs": [],
   "source": []
  }
 ],
 "metadata": {
  "kernelspec": {
   "display_name": "Python 3",
   "language": "python",
   "name": "python3"
  },
  "language_info": {
   "codemirror_mode": {
    "name": "ipython",
    "version": 3
   },
   "file_extension": ".py",
   "mimetype": "text/x-python",
   "name": "python",
   "nbconvert_exporter": "python",
   "pygments_lexer": "ipython3",
   "version": "3.7.3"
  }
 },
 "nbformat": 4,
 "nbformat_minor": 2
}
