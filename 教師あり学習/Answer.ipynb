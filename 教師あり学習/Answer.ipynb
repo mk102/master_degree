{
 "cells": [
  {
   "cell_type": "markdown",
   "metadata": {},
   "source": [
    "### 第0回課題"
   ]
  },
  {
   "cell_type": "code",
   "execution_count": 2,
   "metadata": {},
   "outputs": [],
   "source": [
    "def fibonacci(x):\n",
    "    if x == 0:\n",
    "        return 0\n",
    "    elif x == 1:\n",
    "        return 1\n",
    "    else:\n",
    "        return fibonacci(x - 1) + fibonacci(x - 2)"
   ]
  },
  {
   "cell_type": "code",
   "execution_count": 3,
   "metadata": {},
   "outputs": [
    {
     "name": "stdout",
     "output_type": "stream",
     "text": [
      "0, 1, 1, 2, 3, 5, 8, 13, 21, 34, 55, 89, 144, 233, 377, 610, 987, 1597, 2584, 4181, "
     ]
    }
   ],
   "source": [
    "for i in range(20):\n",
    "    print(fibonacci(i), end=\", \")"
   ]
  },
  {
   "cell_type": "markdown",
   "metadata": {},
   "source": [
    "### 第1回課題"
   ]
  },
  {
   "cell_type": "code",
   "execution_count": 4,
   "metadata": {},
   "outputs": [
    {
     "data": {
      "text/latex": [
       "$$\\left[\\begin{matrix}2 & 1 & 0\\\\1 & -1 & 2\\\\-1 & 0 & -1\\end{matrix}\\right]$$"
      ],
      "text/plain": [
       "⎡2   1   0 ⎤\n",
       "⎢          ⎥\n",
       "⎢1   -1  2 ⎥\n",
       "⎢          ⎥\n",
       "⎣-1  0   -1⎦"
      ]
     },
     "execution_count": 4,
     "metadata": {},
     "output_type": "execute_result"
    }
   ],
   "source": [
    "import numpy as np\n",
    "from sympy import *\n",
    "init_printing()\n",
    "\n",
    "A = Matrix([\n",
    "    [2,1,0],\n",
    "    [1,-1,2],\n",
    "    [-1,0,-1]\n",
    "])\n",
    "A"
   ]
  },
  {
   "cell_type": "code",
   "execution_count": 5,
   "metadata": {},
   "outputs": [
    {
     "data": {
      "text/latex": [
       "$$\\left[\\begin{matrix}1 & 1 & 2\\\\-1 & -2 & -4\\\\-1 & -1 & -3\\end{matrix}\\right]$$"
      ],
      "text/plain": [
       "⎡1   1   2 ⎤\n",
       "⎢          ⎥\n",
       "⎢-1  -2  -4⎥\n",
       "⎢          ⎥\n",
       "⎣-1  -1  -3⎦"
      ]
     },
     "execution_count": 5,
     "metadata": {},
     "output_type": "execute_result"
    }
   ],
   "source": [
    "# 余因子\n",
    "A.adjugate()"
   ]
  },
  {
   "cell_type": "code",
   "execution_count": 6,
   "metadata": {},
   "outputs": [
    {
     "data": {
      "image/png": "[encoded data removed]",
      "text/latex": [
       "$$1$$"
      ],
      "text/plain": [
       "1"
      ]
     },
     "execution_count": 6,
     "metadata": {},
     "output_type": "execute_result"
    }
   ],
   "source": [
    "# 行列式\n",
    "A.det()"
   ]
  },
  {
   "cell_type": "code",
   "execution_count": 7,
   "metadata": {},
   "outputs": [
    {
     "data": {
      "text/latex": [
       "$$\\left[\\begin{matrix}1 & 1 & 2\\\\-1 & -2 & -4\\\\-1 & -1 & -3\\end{matrix}\\right]$$"
      ],
      "text/plain": [
       "⎡1   1   2 ⎤\n",
       "⎢          ⎥\n",
       "⎢-1  -2  -4⎥\n",
       "⎢          ⎥\n",
       "⎣-1  -1  -3⎦"
      ]
     },
     "execution_count": 7,
     "metadata": {},
     "output_type": "execute_result"
    }
   ],
   "source": [
    "# 逆行列\n",
    "A.inv()"
   ]
  },
  {
   "cell_type": "markdown",
   "metadata": {},
   "source": [
    "### 第2回課題"
   ]
  },
  {
   "cell_type": "code",
   "execution_count": 8,
   "metadata": {},
   "outputs": [
    {
     "data": {
      "text/html": [
       "<div>\n",
       "<style scoped>\n",
       "    .dataframe tbody tr th:only-of-type {\n",
       "        vertical-align: middle;\n",
       "    }\n",
       "\n",
       "    .dataframe tbody tr th {\n",
       "        vertical-align: top;\n",
       "    }\n",
       "\n",
       "    .dataframe thead th {\n",
       "        text-align: right;\n",
       "    }\n",
       "</style>\n",
       "<table border=\"1\" class=\"dataframe\">\n",
       "  <thead>\n",
       "    <tr style=\"text-align: right;\">\n",
       "      <th></th>\n",
       "      <th>ID</th>\n",
       "      <th>Math</th>\n",
       "      <th>English</th>\n",
       "      <th>Sex</th>\n",
       "    </tr>\n",
       "  </thead>\n",
       "  <tbody>\n",
       "    <tr>\n",
       "      <th>0</th>\n",
       "      <td>100</td>\n",
       "      <td>50</td>\n",
       "      <td>90</td>\n",
       "      <td>M</td>\n",
       "    </tr>\n",
       "    <tr>\n",
       "      <th>1</th>\n",
       "      <td>101</td>\n",
       "      <td>43</td>\n",
       "      <td>30</td>\n",
       "      <td>F</td>\n",
       "    </tr>\n",
       "    <tr>\n",
       "      <th>2</th>\n",
       "      <td>102</td>\n",
       "      <td>33</td>\n",
       "      <td>20</td>\n",
       "      <td>F</td>\n",
       "    </tr>\n",
       "    <tr>\n",
       "      <th>3</th>\n",
       "      <td>105</td>\n",
       "      <td>76</td>\n",
       "      <td>50</td>\n",
       "      <td>M</td>\n",
       "    </tr>\n",
       "    <tr>\n",
       "      <th>4</th>\n",
       "      <td>107</td>\n",
       "      <td>98</td>\n",
       "      <td>30</td>\n",
       "      <td>M</td>\n",
       "    </tr>\n",
       "    <tr>\n",
       "      <th>5</th>\n",
       "      <td>109</td>\n",
       "      <td>68</td>\n",
       "      <td>66</td>\n",
       "      <td>F</td>\n",
       "    </tr>\n",
       "    <tr>\n",
       "      <th>6</th>\n",
       "      <td>111</td>\n",
       "      <td>72</td>\n",
       "      <td>62</td>\n",
       "      <td>F</td>\n",
       "    </tr>\n",
       "    <tr>\n",
       "      <th>7</th>\n",
       "      <td>112</td>\n",
       "      <td>60</td>\n",
       "      <td>63</td>\n",
       "      <td>M</td>\n",
       "    </tr>\n",
       "  </tbody>\n",
       "</table>\n",
       "</div>"
      ],
      "text/plain": [
       "    ID  Math  English Sex\n",
       "0  100    50       90   M\n",
       "1  101    43       30   F\n",
       "2  102    33       20   F\n",
       "3  105    76       50   M\n",
       "4  107    98       30   M\n",
       "5  109    68       66   F\n",
       "6  111    72       62   F\n",
       "7  112    60       63   M"
      ]
     },
     "execution_count": 8,
     "metadata": {},
     "output_type": "execute_result"
    }
   ],
   "source": [
    "import pandas as pd\n",
    "\n",
    "attri_data2 = {'ID':['100','101','102','105','107','109','111','112'],\n",
    "               'Math':[50,43,33,76,98, 68,72,60],\n",
    "               'English':[90,30,20,50,30,66,62,63],\n",
    "               'Sex':['M','F','F','M','M','F','F','M']}\n",
    "attri_df = pd.DataFrame(attri_data2)\n",
    "attri_df.head(8)"
   ]
  },
  {
   "cell_type": "code",
   "execution_count": 9,
   "metadata": {},
   "outputs": [
    {
     "data": {
      "text/html": [
       "<div>\n",
       "<style scoped>\n",
       "    .dataframe tbody tr th:only-of-type {\n",
       "        vertical-align: middle;\n",
       "    }\n",
       "\n",
       "    .dataframe tbody tr th {\n",
       "        vertical-align: top;\n",
       "    }\n",
       "\n",
       "    .dataframe thead th {\n",
       "        text-align: right;\n",
       "    }\n",
       "</style>\n",
       "<table border=\"1\" class=\"dataframe\">\n",
       "  <thead>\n",
       "    <tr style=\"text-align: right;\">\n",
       "      <th></th>\n",
       "      <th>合格</th>\n",
       "      <th>不合格</th>\n",
       "    </tr>\n",
       "  </thead>\n",
       "  <tbody>\n",
       "    <tr>\n",
       "      <th>女</th>\n",
       "      <td>0</td>\n",
       "      <td>0</td>\n",
       "    </tr>\n",
       "    <tr>\n",
       "      <th>男</th>\n",
       "      <td>0</td>\n",
       "      <td>0</td>\n",
       "    </tr>\n",
       "  </tbody>\n",
       "</table>\n",
       "</div>"
      ],
      "text/plain": [
       "   合格  不合格\n",
       "女   0    0\n",
       "男   0    0"
      ]
     },
     "execution_count": 9,
     "metadata": {},
     "output_type": "execute_result"
    }
   ],
   "source": [
    "table_English=pd.DataFrame({'合格':[0, 0], '不合格':[0,0]},index=['女','男'])\n",
    "table_English"
   ]
  },
  {
   "cell_type": "code",
   "execution_count": 10,
   "metadata": {},
   "outputs": [
    {
     "data": {
      "text/plain": [
       "ID         100\n",
       "Math        50\n",
       "English     90\n",
       "Sex          M\n",
       "Name: 0, dtype: object"
      ]
     },
     "execution_count": 10,
     "metadata": {},
     "output_type": "execute_result"
    }
   ],
   "source": [
    "attri_df.iloc[0, :]"
   ]
  },
  {
   "cell_type": "code",
   "execution_count": 11,
   "metadata": {},
   "outputs": [],
   "source": [
    "len(attri_df)\n",
    "for i in range(len(attri_df)):\n",
    "    if attri_df.iloc[i, :]['English'] >= 50:\n",
    "        if attri_df.iloc[i, :]['Sex'] == 'F':\n",
    "            table_English.iloc[0,0] += 1\n",
    "        else:\n",
    "            table_English.iloc[1,0] += 1\n",
    "    else:\n",
    "        if attri_df.iloc[i, :]['Sex'] == 'F':\n",
    "            table_English.iloc[0,1] += 1\n",
    "        else:\n",
    "            table_English.iloc[1,1] += 1"
   ]
  },
  {
   "cell_type": "code",
   "execution_count": 12,
   "metadata": {},
   "outputs": [
    {
     "data": {
      "text/html": [
       "<div>\n",
       "<style scoped>\n",
       "    .dataframe tbody tr th:only-of-type {\n",
       "        vertical-align: middle;\n",
       "    }\n",
       "\n",
       "    .dataframe tbody tr th {\n",
       "        vertical-align: top;\n",
       "    }\n",
       "\n",
       "    .dataframe thead th {\n",
       "        text-align: right;\n",
       "    }\n",
       "</style>\n",
       "<table border=\"1\" class=\"dataframe\">\n",
       "  <thead>\n",
       "    <tr style=\"text-align: right;\">\n",
       "      <th></th>\n",
       "      <th>合格</th>\n",
       "      <th>不合格</th>\n",
       "    </tr>\n",
       "  </thead>\n",
       "  <tbody>\n",
       "    <tr>\n",
       "      <th>女</th>\n",
       "      <td>2</td>\n",
       "      <td>2</td>\n",
       "    </tr>\n",
       "    <tr>\n",
       "      <th>男</th>\n",
       "      <td>3</td>\n",
       "      <td>1</td>\n",
       "    </tr>\n",
       "  </tbody>\n",
       "</table>\n",
       "</div>"
      ],
      "text/plain": [
       "   合格  不合格\n",
       "女   2    2\n",
       "男   3    1"
      ]
     },
     "execution_count": 12,
     "metadata": {},
     "output_type": "execute_result"
    }
   ],
   "source": [
    "table_English"
   ]
  },
  {
   "cell_type": "code",
   "execution_count": 13,
   "metadata": {},
   "outputs": [
    {
     "data": {
      "text/html": [
       "<div>\n",
       "<style scoped>\n",
       "    .dataframe tbody tr th:only-of-type {\n",
       "        vertical-align: middle;\n",
       "    }\n",
       "\n",
       "    .dataframe tbody tr th {\n",
       "        vertical-align: top;\n",
       "    }\n",
       "\n",
       "    .dataframe thead th {\n",
       "        text-align: right;\n",
       "    }\n",
       "</style>\n",
       "<table border=\"1\" class=\"dataframe\">\n",
       "  <thead>\n",
       "    <tr style=\"text-align: right;\">\n",
       "      <th></th>\n",
       "      <th>合格</th>\n",
       "      <th>不合格</th>\n",
       "    </tr>\n",
       "  </thead>\n",
       "  <tbody>\n",
       "    <tr>\n",
       "      <th>女</th>\n",
       "      <td>0</td>\n",
       "      <td>0</td>\n",
       "    </tr>\n",
       "    <tr>\n",
       "      <th>男</th>\n",
       "      <td>0</td>\n",
       "      <td>0</td>\n",
       "    </tr>\n",
       "  </tbody>\n",
       "</table>\n",
       "</div>"
      ],
      "text/plain": [
       "   合格  不合格\n",
       "女   0    0\n",
       "男   0    0"
      ]
     },
     "execution_count": 13,
     "metadata": {},
     "output_type": "execute_result"
    }
   ],
   "source": [
    "table_Math=pd.DataFrame({'合格':[0, 0], '不合格':[0,0]},index=['女','男'])\n",
    "table_Math"
   ]
  },
  {
   "cell_type": "code",
   "execution_count": 14,
   "metadata": {},
   "outputs": [],
   "source": [
    "len(attri_df)\n",
    "for i in range(len(attri_df)):\n",
    "    if attri_df.iloc[i, :]['Math'] >= 50:\n",
    "        if attri_df.iloc[i, :]['Sex'] == 'F':\n",
    "            table_Math.iloc[0,0] += 1\n",
    "        else:\n",
    "            table_Math.iloc[1,0] += 1\n",
    "    else:\n",
    "        if attri_df.iloc[i, :]['Sex'] == 'F':\n",
    "            table_Math.iloc[0,1] += 1\n",
    "        else:\n",
    "            table_Math.iloc[1,1] += 1"
   ]
  },
  {
   "cell_type": "code",
   "execution_count": 15,
   "metadata": {},
   "outputs": [
    {
     "data": {
      "text/html": [
       "<div>\n",
       "<style scoped>\n",
       "    .dataframe tbody tr th:only-of-type {\n",
       "        vertical-align: middle;\n",
       "    }\n",
       "\n",
       "    .dataframe tbody tr th {\n",
       "        vertical-align: top;\n",
       "    }\n",
       "\n",
       "    .dataframe thead th {\n",
       "        text-align: right;\n",
       "    }\n",
       "</style>\n",
       "<table border=\"1\" class=\"dataframe\">\n",
       "  <thead>\n",
       "    <tr style=\"text-align: right;\">\n",
       "      <th></th>\n",
       "      <th>合格</th>\n",
       "      <th>不合格</th>\n",
       "    </tr>\n",
       "  </thead>\n",
       "  <tbody>\n",
       "    <tr>\n",
       "      <th>女</th>\n",
       "      <td>2</td>\n",
       "      <td>2</td>\n",
       "    </tr>\n",
       "    <tr>\n",
       "      <th>男</th>\n",
       "      <td>4</td>\n",
       "      <td>0</td>\n",
       "    </tr>\n",
       "  </tbody>\n",
       "</table>\n",
       "</div>"
      ],
      "text/plain": [
       "   合格  不合格\n",
       "女   2    2\n",
       "男   4    0"
      ]
     },
     "execution_count": 15,
     "metadata": {},
     "output_type": "execute_result"
    }
   ],
   "source": [
    "table_Math"
   ]
  },
  {
   "cell_type": "code",
   "execution_count": 16,
   "metadata": {},
   "outputs": [
    {
     "name": "stdout",
     "output_type": "stream",
     "text": [
      "統計量  0.6666666666666666\n",
      "p値  0.4142161782425251\n",
      "自由度  1\n",
      "有意水準５％とする。\n",
      "帰無仮説は棄却されず有意差はない\n"
     ]
    }
   ],
   "source": [
    "from scipy import stats\n",
    "data= table_Math.values.tolist()\n",
    "\n",
    "統計量,p,自由度,期待度数 = stats.chi2_contingency(data)\n",
    "\n",
    "print (\"統計量 \" ,統計量)\n",
    "print (\"p値 \" ,p)\n",
    "print (\"自由度 \" ,自由度)\n",
    "\n",
    "print(\"有意水準５％とする。\")\n",
    "\n",
    "print(\"帰無仮説は棄却されず有意差はない\")"
   ]
  },
  {
   "cell_type": "code",
   "execution_count": 17,
   "metadata": {},
   "outputs": [
    {
     "data": {
      "image/png": "[encoded data removed]",
      "text/plain": [
       "<Figure size 432x288 with 1 Axes>"
      ]
     },
     "metadata": {
      "needs_background": "light"
     },
     "output_type": "display_data"
    }
   ],
   "source": [
    "%matplotlib inline\n",
    "import matplotlib.pyplot as plt\n",
    "#　0から5まで0.1刻み\n",
    "x = np.linspace(0, 10, 50) #np.arange(0, 5, 0.1)に同じ \n",
    "\n",
    "# グラフの輪郭を揃える\n",
    "plt.xlim(0, 10)\n",
    "plt.ylim(0, .4)\n",
    "\n",
    "\n",
    "#自由度１のχ二乗分布グラフを描く\n",
    "plt.plot(x, stats.chi2.pdf(x, 自由度))\n",
    "\n",
    "plt.vlines(3.84 ,0,0.03,color=\"y\")\n",
    "plt.vlines(統計量,0,0.35,color=\"r\");"
   ]
  },
  {
   "cell_type": "markdown",
   "metadata": {},
   "source": [
    "### 第3回課題"
   ]
  },
  {
   "cell_type": "code",
   "execution_count": 18,
   "metadata": {},
   "outputs": [],
   "source": [
    "import pandas as pd\n",
    "import numpy as np\n",
    "from scipy import stats\n",
    "from sklearn.model_selection import train_test_split\n",
    "from sklearn.datasets import load_iris\n",
    "\n",
    "data = load_iris()\n",
    "X=data.data\n",
    "y=data.target\n",
    "x_train, x_test, y_train, y_test = train_test_split(X,y) "
   ]
  },
  {
   "cell_type": "code",
   "execution_count": 19,
   "metadata": {},
   "outputs": [],
   "source": [
    "import warnings\n",
    "warnings.filterwarnings('ignore')"
   ]
  },
  {
   "cell_type": "code",
   "execution_count": 20,
   "metadata": {},
   "outputs": [
    {
     "data": {
      "text/html": [
       "<div>\n",
       "<style scoped>\n",
       "    .dataframe tbody tr th:only-of-type {\n",
       "        vertical-align: middle;\n",
       "    }\n",
       "\n",
       "    .dataframe tbody tr th {\n",
       "        vertical-align: top;\n",
       "    }\n",
       "\n",
       "    .dataframe thead th {\n",
       "        text-align: right;\n",
       "    }\n",
       "</style>\n",
       "<table border=\"1\" class=\"dataframe\">\n",
       "  <thead>\n",
       "    <tr style=\"text-align: right;\">\n",
       "      <th></th>\n",
       "      <th>mean_fit_time</th>\n",
       "      <th>std_fit_time</th>\n",
       "      <th>mean_score_time</th>\n",
       "      <th>std_score_time</th>\n",
       "      <th>param_n_neighbors</th>\n",
       "      <th>params</th>\n",
       "      <th>split0_test_score</th>\n",
       "      <th>split1_test_score</th>\n",
       "      <th>split2_test_score</th>\n",
       "      <th>mean_test_score</th>\n",
       "      <th>std_test_score</th>\n",
       "      <th>rank_test_score</th>\n",
       "      <th>split0_train_score</th>\n",
       "      <th>split1_train_score</th>\n",
       "      <th>split2_train_score</th>\n",
       "      <th>mean_train_score</th>\n",
       "      <th>std_train_score</th>\n",
       "    </tr>\n",
       "  </thead>\n",
       "  <tbody>\n",
       "    <tr>\n",
       "      <th>0</th>\n",
       "      <td>0.005774</td>\n",
       "      <td>0.007688</td>\n",
       "      <td>0.002951</td>\n",
       "      <td>0.001347</td>\n",
       "      <td>3</td>\n",
       "      <td>{'n_neighbors': 3}</td>\n",
       "      <td>0.921053</td>\n",
       "      <td>0.972973</td>\n",
       "      <td>0.972973</td>\n",
       "      <td>0.955357</td>\n",
       "      <td>0.024583</td>\n",
       "      <td>1</td>\n",
       "      <td>0.986486</td>\n",
       "      <td>0.946667</td>\n",
       "      <td>0.946667</td>\n",
       "      <td>0.959940</td>\n",
       "      <td>0.018771</td>\n",
       "    </tr>\n",
       "    <tr>\n",
       "      <th>1</th>\n",
       "      <td>0.000289</td>\n",
       "      <td>0.000012</td>\n",
       "      <td>0.001389</td>\n",
       "      <td>0.000024</td>\n",
       "      <td>4</td>\n",
       "      <td>{'n_neighbors': 4}</td>\n",
       "      <td>0.894737</td>\n",
       "      <td>0.972973</td>\n",
       "      <td>0.918919</td>\n",
       "      <td>0.928571</td>\n",
       "      <td>0.032718</td>\n",
       "      <td>5</td>\n",
       "      <td>1.000000</td>\n",
       "      <td>0.946667</td>\n",
       "      <td>0.946667</td>\n",
       "      <td>0.964444</td>\n",
       "      <td>0.025142</td>\n",
       "    </tr>\n",
       "    <tr>\n",
       "      <th>2</th>\n",
       "      <td>0.000281</td>\n",
       "      <td>0.000002</td>\n",
       "      <td>0.001382</td>\n",
       "      <td>0.000024</td>\n",
       "      <td>5</td>\n",
       "      <td>{'n_neighbors': 5}</td>\n",
       "      <td>0.921053</td>\n",
       "      <td>1.000000</td>\n",
       "      <td>0.918919</td>\n",
       "      <td>0.946429</td>\n",
       "      <td>0.037637</td>\n",
       "      <td>2</td>\n",
       "      <td>1.000000</td>\n",
       "      <td>0.933333</td>\n",
       "      <td>0.973333</td>\n",
       "      <td>0.968889</td>\n",
       "      <td>0.027397</td>\n",
       "    </tr>\n",
       "    <tr>\n",
       "      <th>3</th>\n",
       "      <td>0.000276</td>\n",
       "      <td>0.000001</td>\n",
       "      <td>0.001393</td>\n",
       "      <td>0.000041</td>\n",
       "      <td>6</td>\n",
       "      <td>{'n_neighbors': 6}</td>\n",
       "      <td>0.894737</td>\n",
       "      <td>0.972973</td>\n",
       "      <td>0.891892</td>\n",
       "      <td>0.919643</td>\n",
       "      <td>0.037476</td>\n",
       "      <td>6</td>\n",
       "      <td>1.000000</td>\n",
       "      <td>0.946667</td>\n",
       "      <td>0.973333</td>\n",
       "      <td>0.973333</td>\n",
       "      <td>0.021773</td>\n",
       "    </tr>\n",
       "    <tr>\n",
       "      <th>4</th>\n",
       "      <td>0.000277</td>\n",
       "      <td>0.000002</td>\n",
       "      <td>0.001392</td>\n",
       "      <td>0.000023</td>\n",
       "      <td>7</td>\n",
       "      <td>{'n_neighbors': 7}</td>\n",
       "      <td>0.921053</td>\n",
       "      <td>0.972973</td>\n",
       "      <td>0.864865</td>\n",
       "      <td>0.919643</td>\n",
       "      <td>0.043949</td>\n",
       "      <td>6</td>\n",
       "      <td>1.000000</td>\n",
       "      <td>0.946667</td>\n",
       "      <td>0.960000</td>\n",
       "      <td>0.968889</td>\n",
       "      <td>0.022662</td>\n",
       "    </tr>\n",
       "    <tr>\n",
       "      <th>5</th>\n",
       "      <td>0.000279</td>\n",
       "      <td>0.000003</td>\n",
       "      <td>0.001380</td>\n",
       "      <td>0.000013</td>\n",
       "      <td>8</td>\n",
       "      <td>{'n_neighbors': 8}</td>\n",
       "      <td>0.894737</td>\n",
       "      <td>0.972973</td>\n",
       "      <td>0.891892</td>\n",
       "      <td>0.919643</td>\n",
       "      <td>0.037476</td>\n",
       "      <td>6</td>\n",
       "      <td>1.000000</td>\n",
       "      <td>0.920000</td>\n",
       "      <td>0.946667</td>\n",
       "      <td>0.955556</td>\n",
       "      <td>0.033259</td>\n",
       "    </tr>\n",
       "    <tr>\n",
       "      <th>6</th>\n",
       "      <td>0.000274</td>\n",
       "      <td>0.000019</td>\n",
       "      <td>0.001297</td>\n",
       "      <td>0.000017</td>\n",
       "      <td>9</td>\n",
       "      <td>{'n_neighbors': 9}</td>\n",
       "      <td>0.921053</td>\n",
       "      <td>1.000000</td>\n",
       "      <td>0.918919</td>\n",
       "      <td>0.946429</td>\n",
       "      <td>0.037637</td>\n",
       "      <td>2</td>\n",
       "      <td>0.986486</td>\n",
       "      <td>0.933333</td>\n",
       "      <td>0.960000</td>\n",
       "      <td>0.959940</td>\n",
       "      <td>0.021700</td>\n",
       "    </tr>\n",
       "    <tr>\n",
       "      <th>7</th>\n",
       "      <td>0.000260</td>\n",
       "      <td>0.000002</td>\n",
       "      <td>0.001325</td>\n",
       "      <td>0.000024</td>\n",
       "      <td>10</td>\n",
       "      <td>{'n_neighbors': 10}</td>\n",
       "      <td>0.921053</td>\n",
       "      <td>1.000000</td>\n",
       "      <td>0.918919</td>\n",
       "      <td>0.946429</td>\n",
       "      <td>0.037637</td>\n",
       "      <td>2</td>\n",
       "      <td>1.000000</td>\n",
       "      <td>0.906667</td>\n",
       "      <td>0.933333</td>\n",
       "      <td>0.946667</td>\n",
       "      <td>0.039252</td>\n",
       "    </tr>\n",
       "  </tbody>\n",
       "</table>\n",
       "</div>"
      ],
      "text/plain": [
       "   mean_fit_time  std_fit_time  mean_score_time  std_score_time  \\\n",
       "0       0.005774      0.007688         0.002951        0.001347   \n",
       "1       0.000289      0.000012         0.001389        0.000024   \n",
       "2       0.000281      0.000002         0.001382        0.000024   \n",
       "3       0.000276      0.000001         0.001393        0.000041   \n",
       "4       0.000277      0.000002         0.001392        0.000023   \n",
       "5       0.000279      0.000003         0.001380        0.000013   \n",
       "6       0.000274      0.000019         0.001297        0.000017   \n",
       "7       0.000260      0.000002         0.001325        0.000024   \n",
       "\n",
       "  param_n_neighbors               params  split0_test_score  \\\n",
       "0                 3   {'n_neighbors': 3}           0.921053   \n",
       "1                 4   {'n_neighbors': 4}           0.894737   \n",
       "2                 5   {'n_neighbors': 5}           0.921053   \n",
       "3                 6   {'n_neighbors': 6}           0.894737   \n",
       "4                 7   {'n_neighbors': 7}           0.921053   \n",
       "5                 8   {'n_neighbors': 8}           0.894737   \n",
       "6                 9   {'n_neighbors': 9}           0.921053   \n",
       "7                10  {'n_neighbors': 10}           0.921053   \n",
       "\n",
       "   split1_test_score  split2_test_score  mean_test_score  std_test_score  \\\n",
       "0           0.972973           0.972973         0.955357        0.024583   \n",
       "1           0.972973           0.918919         0.928571        0.032718   \n",
       "2           1.000000           0.918919         0.946429        0.037637   \n",
       "3           0.972973           0.891892         0.919643        0.037476   \n",
       "4           0.972973           0.864865         0.919643        0.043949   \n",
       "5           0.972973           0.891892         0.919643        0.037476   \n",
       "6           1.000000           0.918919         0.946429        0.037637   \n",
       "7           1.000000           0.918919         0.946429        0.037637   \n",
       "\n",
       "   rank_test_score  split0_train_score  split1_train_score  \\\n",
       "0                1            0.986486            0.946667   \n",
       "1                5            1.000000            0.946667   \n",
       "2                2            1.000000            0.933333   \n",
       "3                6            1.000000            0.946667   \n",
       "4                6            1.000000            0.946667   \n",
       "5                6            1.000000            0.920000   \n",
       "6                2            0.986486            0.933333   \n",
       "7                2            1.000000            0.906667   \n",
       "\n",
       "   split2_train_score  mean_train_score  std_train_score  \n",
       "0            0.946667          0.959940         0.018771  \n",
       "1            0.946667          0.964444         0.025142  \n",
       "2            0.973333          0.968889         0.027397  \n",
       "3            0.973333          0.973333         0.021773  \n",
       "4            0.960000          0.968889         0.022662  \n",
       "5            0.946667          0.955556         0.033259  \n",
       "6            0.960000          0.959940         0.021700  \n",
       "7            0.933333          0.946667         0.039252  "
      ]
     },
     "execution_count": 20,
     "metadata": {},
     "output_type": "execute_result"
    }
   ],
   "source": [
    "from sklearn.neighbors import KNeighborsClassifier\n",
    "from sklearn.model_selection import GridSearchCV\n",
    "\n",
    "tuned_parameters = [\n",
    "    {'n_neighbors': list(range(3,11))}\n",
    "    ]\n",
    "\n",
    "grid_search = GridSearchCV(KNeighborsClassifier(),  tuned_parameters,cv=3)\n",
    "grid_search.fit(x_train, y_train)\n",
    "gs_result = pd.DataFrame.from_dict(grid_search.cv_results_)\n",
    "gs_result"
   ]
  },
  {
   "cell_type": "code",
   "execution_count": 21,
   "metadata": {},
   "outputs": [],
   "source": [
    "best=grid_search.best_estimator_"
   ]
  },
  {
   "cell_type": "code",
   "execution_count": 22,
   "metadata": {},
   "outputs": [
    {
     "data": {
      "text/plain": [
       "array([[17,  0,  0],\n",
       "       [ 0, 10,  0],\n",
       "       [ 0,  0, 11]])"
      ]
     },
     "execution_count": 22,
     "metadata": {},
     "output_type": "execute_result"
    }
   ],
   "source": [
    "from sklearn.metrics import confusion_matrix\n",
    "\n",
    "pred = best.predict(x_test)\n",
    "confusion_matrix(y_test, pred)"
   ]
  },
  {
   "cell_type": "code",
   "execution_count": 23,
   "metadata": {},
   "outputs": [
    {
     "data": {
      "image/png": "[encoded data removed]",
      "text/latex": [
       "$$3$$"
      ],
      "text/plain": [
       "3"
      ]
     },
     "execution_count": 23,
     "metadata": {},
     "output_type": "execute_result"
    }
   ],
   "source": [
    "best.n_neighbors"
   ]
  },
  {
   "cell_type": "code",
   "execution_count": 24,
   "metadata": {},
   "outputs": [
    {
     "name": "stdout",
     "output_type": "stream",
     "text": [
      "最適なkの値:3\n"
     ]
    }
   ],
   "source": [
    "print('最適なkの値:{}'.format(best.n_neighbors))"
   ]
  }
 ],
 "metadata": {
  "kernelspec": {
   "display_name": "Python 3",
   "language": "python",
   "name": "python3"
  },
  "language_info": {
   "codemirror_mode": {
    "name": "ipython",
    "version": 3
   },
   "file_extension": ".py",
   "mimetype": "text/x-python",
   "name": "python",
   "nbconvert_exporter": "python",
   "pygments_lexer": "ipython3",
   "version": "3.7.3"
  }
 },
 "nbformat": 4,
 "nbformat_minor": 2
}
